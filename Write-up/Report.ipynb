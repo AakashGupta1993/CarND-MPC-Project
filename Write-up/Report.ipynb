{
 "cells": [
  {
   "cell_type": "markdown",
   "metadata": {},
   "source": [
    "# MPC Project Report\n",
    "\n",
    "In MPC project we are given the waypoints in the global co-ordinate system.\n",
    "\n",
    "We can use these points as it is but that would make calculations a bit complex, therefore for the sake of simplicity changing the waypoints to car's co-ordinate system and proceeding with the project.\n",
    "\n",
    "This also means that we can consider px = 0, py = 0, and psi = 0. Why would be x, y and psi 0?\n",
    "\n",
    "They will be 0 because we are considering car at the origin.\n",
    "\n",
    "The steer value and throttle is used in the latency equations to update the state vectors. After updating all the calculations are performed.\n",
    "\n",
    "I have considered reference velocity as 70 for the project (although it runs perfectly at 80 also) and this reference velocity is mentioned in MPC.cpp file"
   ]
  },
  {
   "cell_type": "code",
   "execution_count": null,
   "metadata": {},
   "outputs": [],
   "source": []
  },
  {
   "cell_type": "markdown",
   "metadata": {},
   "source": [
    "### Update equations used\n",
    "    x_(t+1) = x_t  + v_t*cos(ψt)∗dt\n",
    "    //x_[t+1] = x[t] + v[t] * cos(psi[t]) * dt\n",
    "\n",
    "    y_(t+1) = y_t + v_t*sin(ψt)∗dt\n",
    "    //y_[t+1] = y[t] + v[t] * sin(psi[t]) * dt\n",
    "\n",
    "    ψ_(t+1) =  ψ_t+v_t(/Lf)*δ∗dt\n",
    "    //psi_[t+1] = psi[t] - (v[t] * delta[t] * dt) / Lf \n",
    "\n",
    "    v_(t+1) = v_t + a_t ∗ dt\n",
    "    //v_[t+1] = v[t] + a[t] * dt\n",
    "\n",
    "    cte[t+1] = f(x[t]) - y[t] + v[t] * sin(epsi[t]) * dt\n",
    "\n",
    "    epsi[t+1] = psi[t] - psides[t] - (v[t] * delta[t]  * dt)/ Lf\n",
    "\n",
    "These are the same equations mentioned in the classroom.\n"
   ]
  },
  {
   "cell_type": "code",
   "execution_count": null,
   "metadata": {},
   "outputs": [],
   "source": []
  },
  {
   "cell_type": "markdown",
   "metadata": {},
   "source": [
    "I have taken N as 10 because if I think it would be computationally more intensive if I increase it.\n",
    "\n",
    "Also if N is decreased then we do not get to know if the equations are working correctly or not as then N would become small.\n"
   ]
  },
  {
   "cell_type": "code",
   "execution_count": null,
   "metadata": {},
   "outputs": [],
   "source": []
  },
  {
   "cell_type": "markdown",
   "metadata": {},
   "source": [
    "\n",
    "I have taken dt as 0.1 and if I increase the dt to 0.2 then car tends to move along the sides rather than center. \n",
    "\n",
    "If I reduce the dt to 0.05, car starts to oscillate. The trajectory becomes far from the ideal one. It would cause motion sickness and thus taking 0.1 as dt.\n"
   ]
  },
  {
   "cell_type": "code",
   "execution_count": null,
   "metadata": {},
   "outputs": [],
   "source": []
  },
  {
   "cell_type": "markdown",
   "metadata": {},
   "source": [
    "\n",
    "I have made a polynomial that fits the waypoints. Also latency is also added. Latency is needed because there can be delay for two reasons :\n",
    "\n",
    "1) There might be the case where it takes time to compute.\n",
    "2) There is delay when the signal is send and when the signal is executed.\n",
    "\n",
    "To account for these delays a latency of 100 milliseconds has been implemented. A delay more then that may not be good in actual scenerio.  The delay has been taken into account by using the vehicle model equations. I am not taking the initial position  what is returned by simulator but it would be after 100 milliseconds according to vehicle model."
   ]
  },
  {
   "cell_type": "code",
   "execution_count": null,
   "metadata": {},
   "outputs": [],
   "source": []
  },
  {
   "cell_type": "markdown",
   "metadata": {},
   "source": [
    "## Latency Equations\n",
    "    double Latency = 0.1;\n",
    "    px = v * Latency;\n",
    "    cte = cte + v * sin(epsi) * Latency;\n",
    "    psi = -1 * (v * steer_value * Latency) / Lf;\n",
    "    epsi = epsi - ((v * steer_value * Latency) / Lf);\n",
    "    v = v + throttle_value * Latency;\n"
   ]
  },
  {
   "cell_type": "code",
   "execution_count": null,
   "metadata": {},
   "outputs": [],
   "source": []
  }
 ],
 "metadata": {
  "kernelspec": {
   "display_name": "Python 3",
   "language": "python",
   "name": "python3"
  },
  "language_info": {
   "codemirror_mode": {
    "name": "ipython",
    "version": 3
   },
   "file_extension": ".py",
   "mimetype": "text/x-python",
   "name": "python",
   "nbconvert_exporter": "python",
   "pygments_lexer": "ipython3",
   "version": "3.5.2"
  },
  "widgets": {
   "state": {},
   "version": "1.1.2"
  }
 },
 "nbformat": 4,
 "nbformat_minor": 2
}
